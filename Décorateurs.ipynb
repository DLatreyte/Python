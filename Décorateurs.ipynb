{
 "cells": [
  {
   "cell_type": "markdown",
   "metadata": {},
   "source": [
    "# Décorateurs\n",
    "\n",
    "## Introduction\n",
    "\n",
    "Un décorateur est n'importe quel objet Python appelable que l'on peut utiliser pour modifier une fonction ou une classe. La référence à une fonction \"func\" ou à une classe \"C\" est passée à un décorateur et ce décorateur retourne une fonction ou classe modifiées. Ces dernières contiennent généralement un appel à la fonction ou classe de départ.\n",
    "\n",
    "## Une fonction est un objet de première classe\n",
    "\n",
    "### Une fonction est un objet\n",
    "\n",
    "- Une fonction est un objet de première classe référencé par une variable. \n",
    "- L'affectation de cette référence à une autre variable crée une nouvelle référence, pas une nouvelle fonction. \n",
    "- La destruction d'une de ces variables ne supprime que la variable et pas la fonction (qui peut ne plus être accessible, ce qui est un autre problème)."
   ]
  },
  {
   "cell_type": "code",
   "execution_count": 3,
   "metadata": {
    "collapsed": false
   },
   "outputs": [
    {
     "name": "stdout",
     "output_type": "stream",
     "text": [
      "3 3\n",
      "3\n"
     ]
    }
   ],
   "source": [
    "def somme(a, b):\n",
    "    return a + b\n",
    "\n",
    "\n",
    "ajout = somme\n",
    "print(somme(1, 2), ajout(1, 2))\n",
    "\n",
    "del somme\n",
    "print(ajout(1, 2))"
   ]
  },
  {
   "cell_type": "markdown",
   "metadata": {},
   "source": [
    "### Une fonction peut être définie dans une fonction"
   ]
  },
  {
   "cell_type": "code",
   "execution_count": 8,
   "metadata": {
    "collapsed": false
   },
   "outputs": [
    {
     "name": "stdout",
     "output_type": "stream",
     "text": [
      "Depuis la fonction 'f'\n",
      "Appel de 'g' maintenant :\n",
      "Depuis la fonction 'g'\n",
      "Fin du travail de 'g'\n"
     ]
    }
   ],
   "source": [
    "def f():\n",
    "    def g():\n",
    "        print(\"Depuis la fonction 'g'\")\n",
    "        print(\"Fin du travail de 'g'\")\n",
    "\n",
    "    print(\"Depuis la fonction 'f'\")\n",
    "    print(\"Appel de 'g' maintenant :\")\n",
    "    g()\n",
    "\n",
    "\n",
    "f()"
   ]
  },
  {
   "cell_type": "code",
   "execution_count": 10,
   "metadata": {
    "collapsed": false
   },
   "outputs": [
    {
     "name": "stdout",
     "output_type": "stream",
     "text": [
      "La température est de 36.0 degrés!\n"
     ]
    }
   ],
   "source": [
    "def temperature(t):\n",
    "    def celsius_to_fahrenheit(x):\n",
    "        return 9 * x / 5\n",
    "\n",
    "    resultat = \"La température est de \" + str(celsius_to_fahrenheit(t)) + \" degrés!\" \n",
    "    return resultat\n",
    "\n",
    "print(temperature(20))"
   ]
  },
  {
   "cell_type": "markdown",
   "metadata": {},
   "source": [
    "### Une fonction peut être passée comme argument"
   ]
  },
  {
   "cell_type": "code",
   "execution_count": 12,
   "metadata": {
    "collapsed": false
   },
   "outputs": [
    {
     "name": "stdout",
     "output_type": "stream",
     "text": [
      "Depuis la fonction 'f'\n",
      "Appel de 'g' maintenant :\n",
      "Depuis la fonction 'g'\n",
      "Fin du travail de 'g'\n"
     ]
    }
   ],
   "source": [
    "def g():\n",
    "    print(\"Depuis la fonction 'g'\")\n",
    "    print(\"Fin du travail de 'g'\")\n",
    "\n",
    "def f(func):\n",
    "    print(\"Depuis la fonction 'f'\")\n",
    "    print(\"Appel de '{}' maintenant :\".format(func.__name__))\n",
    "    func()\n",
    "    \n",
    "f(g)"
   ]
  },
  {
   "cell_type": "code",
   "execution_count": 13,
   "metadata": {
    "collapsed": false
   },
   "outputs": [
    {
     "name": "stdout",
     "output_type": "stream",
     "text": [
      "La fonction 'sin' à été passée à foo\n",
      "2.3492405557375347\n",
      "La fonction 'cos' à été passée à foo\n",
      "-0.6769881462259364\n"
     ]
    }
   ],
   "source": [
    "import math\n",
    "\n",
    "def foo(func):\n",
    "    print(\"La fonction '{}' à été passée à foo\".format(func.__name__))\n",
    "    res = 0\n",
    "    for x in [1, 2, 2.5]:\n",
    "        res += func(x)\n",
    "    return res\n",
    "\n",
    "print(foo(math.sin))\n",
    "print(foo(math.cos))"
   ]
  },
  {
   "cell_type": "markdown",
   "metadata": {},
   "source": [
    "### Une fonction peut retourner une fonction : fermeture"
   ]
  },
  {
   "cell_type": "code",
   "execution_count": 15,
   "metadata": {
    "collapsed": false
   },
   "outputs": [
    {
     "name": "stdout",
     "output_type": "stream",
     "text": [
      "4\n",
      "7\n"
     ]
    }
   ],
   "source": [
    "def f(a, b):\n",
    "    def _f(x):\n",
    "        return a * x + b\n",
    "    return _f\n",
    "\n",
    "droite_1 = f(1, 2)\n",
    "droite_2 = f(2, 3)\n",
    "\n",
    "print(droite_1(2))\n",
    "print(droite_2(2))"
   ]
  },
  {
   "cell_type": "markdown",
   "metadata": {},
   "source": [
    "## Premier décorateur"
   ]
  },
  {
   "cell_type": "code",
   "execution_count": 25,
   "metadata": {
    "collapsed": false
   },
   "outputs": [
    {
     "name": "stdout",
     "output_type": "stream",
     "text": [
      "- Appel de foo avant toute décoration :\n",
      "La fonction foo a été appelée avec l'argument Hello\n",
      "- Décoration de foo avec f :\n",
      "- Appel de foo après décoration :\n",
      "* Avant appel de foo *\n",
      "La fonction foo a été appelée avec l'argument 42\n",
      "* Après appel de foo *\n"
     ]
    }
   ],
   "source": [
    "def decorateur(func):\n",
    "    def fonction_enveloppe(x):\n",
    "        print(\"* Avant appel de {} *\".format(func.__name__))\n",
    "        func(x)\n",
    "        print(\"* Après appel de {} *\".format(func.__name__))\n",
    "    return fonction_enveloppe\n",
    "\n",
    "def foo(x):\n",
    "    print(\"La fonction foo a été appelée avec l'argument {}\".format(x))\n",
    "\n",
    "print(\"- Appel de foo avant toute décoration :\")\n",
    "foo(\"Hello\")\n",
    "    \n",
    "print(\"- Décoration de foo avec f :\")\n",
    "foo = decorateur(foo)\n",
    "\n",
    "print(\"- Appel de foo après décoration :\")\n",
    "foo(42)"
   ]
  },
  {
   "cell_type": "code",
   "execution_count": null,
   "metadata": {
    "collapsed": true
   },
   "outputs": [],
   "source": []
  }
 ],
 "metadata": {
  "kernelspec": {
   "display_name": "Python [conda root]",
   "language": "python",
   "name": "conda-root-py"
  },
  "language_info": {
   "codemirror_mode": {
    "name": "ipython",
    "version": 3
   },
   "file_extension": ".py",
   "mimetype": "text/x-python",
   "name": "python",
   "nbconvert_exporter": "python",
   "pygments_lexer": "ipython3",
   "version": "3.5.2"
  },
  "toc": {
   "nav_menu": {
    "height": "153px",
    "width": "252px"
   },
   "navigate_menu": true,
   "number_sections": true,
   "sideBar": true,
   "threshold": 4,
   "toc_cell": false,
   "toc_section_display": "block",
   "toc_window_display": false
  }
 },
 "nbformat": 4,
 "nbformat_minor": 1
}
