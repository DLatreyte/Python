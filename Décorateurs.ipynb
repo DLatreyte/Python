{
 "cells": [
  {
   "cell_type": "markdown",
   "metadata": {},
   "source": [
    "# Décorateurs\n",
    "\n",
    "## Introduction\n",
    "\n",
    "Un décorateur est n'importe quel objet Python appelable que l'on peut utiliser pour modifier une fonction ou une classe. La référence à une fonction \"func\" ou à une classe \"C\" est passée à un décorateur et ce décorateur retourne une fonction ou classe modifiées. Ces dernières contiennent généralement un appel à la fonction ou classe de départ.\n",
    "\n",
    "## Une fonction est un objet de première classe\n",
    "\n",
    "### Une fonction est un objet\n",
    "\n",
    "- Une fonction est un objet de première classe référencé par une variable. \n",
    "- L'affectation de cette référence à une autre variable crée une nouvelle référence, pas une nouvelle fonction. \n",
    "- La destruction d'une de ces variables ne supprime que la variable et pas la fonction (qui peut ne plus être accessible, ce qui est un autre problème)."
   ]
  },
  {
   "cell_type": "code",
   "execution_count": 3,
   "metadata": {
    "collapsed": false
   },
   "outputs": [
    {
     "name": "stdout",
     "output_type": "stream",
     "text": [
      "3 3\n",
      "3\n"
     ]
    }
   ],
   "source": [
    "def somme(a, b):\n",
    "    return a + b\n",
    "\n",
    "\n",
    "ajout = somme\n",
    "print(somme(1, 2), ajout(1, 2))\n",
    "\n",
    "del somme\n",
    "print(ajout(1, 2))"
   ]
  },
  {
   "cell_type": "markdown",
   "metadata": {},
   "source": [
    "### Une fonction peut être définie dans une fonction"
   ]
  },
  {
   "cell_type": "code",
   "execution_count": 6,
   "metadata": {
    "collapsed": false
   },
   "outputs": [
    {
     "name": "stdout",
     "output_type": "stream",
     "text": [
      "Depuis la fonction f...\n",
      "Appel de g maintenant...\n",
      "Depuis la fonction g...\n",
      "Fin du travail de g...\n",
      "Fin du travail de f...\n"
     ]
    }
   ],
   "source": [
    "def f():\n",
    "    def g():\n",
    "        print(\"Depuis la fonction {}...\".format(g.__name__))\n",
    "        print(\"Fin du travail de {}...\".format(g.__name__))\n",
    "\n",
    "    print(\"Depuis la fonction {}...\".format(f.__name__))\n",
    "    print(\"Appel de {} maintenant...\".format(g.__name__))\n",
    "    g()\n",
    "    print(\"Fin du travail de {}...\".format(f.__name__))\n",
    "\n",
    "\n",
    "f()"
   ]
  },
  {
   "cell_type": "markdown",
   "metadata": {},
   "source": [
    "**Remarque :** Dans l'exemple ci-dessus, la fonction g n'est appellable que depuis la fonction f. Sa référence appartient à l'espace de noms de f."
   ]
  },
  {
   "cell_type": "code",
   "execution_count": 4,
   "metadata": {
    "collapsed": false
   },
   "outputs": [
    {
     "name": "stdout",
     "output_type": "stream",
     "text": [
      "La température est de 36.0 degrés!\n"
     ]
    }
   ],
   "source": [
    "def temperature(t):\n",
    "    \"\"\"\n",
    "    Fonction qui définit et appelle une fonction capable de convertir une\n",
    "    température en degrés celsius en degrés fahrenheit.\n",
    "    \"\"\"\n",
    "\n",
    "    def celsius_vers_fahrenheit(x):\n",
    "        return 9 * x / 5\n",
    "\n",
    "    resultat = \"La température est de {} degrés fahrenheit !\".format(\n",
    "        celsius_vers_fahrenheit(t))\n",
    "    return resultat\n",
    "\n",
    "\n",
    "print(temperature(20))"
   ]
  },
  {
   "cell_type": "markdown",
   "metadata": {},
   "source": [
    "**Remarque :** l'exemple ci-dessus ne présente aucun intérêt pratique, autant directement définir dans l'espace de nom principal la fonction celsius_vers_fahrenheit !\n",
    "\n",
    "Il n'est là que pour introduire la suite..."
   ]
  },
  {
   "cell_type": "code",
   "execution_count": 7,
   "metadata": {
    "collapsed": false
   },
   "outputs": [
    {
     "name": "stdout",
     "output_type": "stream",
     "text": [
      "[1, 4, 9, 16, 25, 36]\n"
     ]
    }
   ],
   "source": [
    "def traitement_elements(liste):\n",
    "    \"\"\"\n",
    "    Fonction qui élève au carré tous les éléments d'une liste.\n",
    "    \"\"\"\n",
    "\n",
    "    def carre(x):\n",
    "        return x**2\n",
    "\n",
    "    retour = list(map(carre, liste))  # Application de carre à tous les éléments de liste\n",
    "    return retour\n",
    "\n",
    "\n",
    "l = [1, 2, 3, 4, 5, 6]\n",
    "l_au_carre = traitement_elements(l)\n",
    "print(l_au_carre)"
   ]
  },
  {
   "cell_type": "markdown",
   "metadata": {},
   "source": [
    "Dans l'exemple ci-dessus, on sait que la fonction carre ne sera utilisée que par la fonction traitement_elements ; inutile de « polluer » l'espace de nom principal !\n",
    "\n",
    "*À noter que la structure précédente rend la fonction traitement_elements complètement indépendante du reste du code, ce qui est une excellente chose !*"
   ]
  },
  {
   "cell_type": "markdown",
   "metadata": {},
   "source": [
    "### Une fonction peut être passée comme argument"
   ]
  },
  {
   "cell_type": "code",
   "execution_count": 9,
   "metadata": {
    "collapsed": false
   },
   "outputs": [
    {
     "name": "stdout",
     "output_type": "stream",
     "text": [
      "Depuis la fonction 'f'\n",
      "Appel de 'g' maintenant :\n",
      "Depuis la fonction 'g'\n",
      "Fin du travail de 'g'\n"
     ]
    }
   ],
   "source": [
    "def g():\n",
    "    print(\"Depuis la fonction 'g'\")\n",
    "    print(\"Fin du travail de 'g'\")\n",
    "\n",
    "\n",
    "def f(fonc):\n",
    "    print(\"Depuis la fonction 'f'\")\n",
    "    print(\"Appel de '{}' maintenant :\".format(fonc.__name__))\n",
    "    fonc()\n",
    "\n",
    "\n",
    "f(g)"
   ]
  },
  {
   "cell_type": "code",
   "execution_count": 13,
   "metadata": {
    "collapsed": false
   },
   "outputs": [
    {
     "name": "stdout",
     "output_type": "stream",
     "text": [
      "La fonction celsius_vers_fahrenheit a été passée à conversion\n",
      "180.0\n",
      "La fonction fahrenheit_vers_celsius a été passée à conversion\n",
      "100.0\n"
     ]
    }
   ],
   "source": [
    "def celsius_vers_fahrenheit(x):\n",
    "    return 9 * x / 5\n",
    "\n",
    "\n",
    "def fahrenheit_vers_celsius(x):\n",
    "    return 5 * x / 9\n",
    "\n",
    "\n",
    "def conversion(f, t):\n",
    "    print(\"La fonction {} a été passée à {}\".format(f.__name__, conversion.__name__))\n",
    "    return f(t)\n",
    "\n",
    "\n",
    "print(conversion(celsius_vers_fahrenheit, 100))\n",
    "print(conversion(fahrenheit_vers_celsius, 180))"
   ]
  },
  {
   "cell_type": "code",
   "execution_count": 14,
   "metadata": {
    "collapsed": false
   },
   "outputs": [
    {
     "name": "stdout",
     "output_type": "stream",
     "text": [
      "La fonction 'sin' à été passée à \n",
      "2.3492405557375347\n",
      "La fonction 'cos' à été passée à \n",
      "-0.6769881462259364\n"
     ]
    }
   ],
   "source": [
    "import math\n",
    "\n",
    "\n",
    "def foo(func):\n",
    "    print(\"La fonction '{}' à été passée à \".format(func.__name__, foo.__name__))\n",
    "    res = 0\n",
    "    for x in [1, 2, 2.5]:\n",
    "        res += func(x)\n",
    "    return res\n",
    "\n",
    "\n",
    "print(foo(math.sin))\n",
    "print(foo(math.cos))"
   ]
  },
  {
   "cell_type": "markdown",
   "metadata": {},
   "source": [
    "### Une fonction peut retourner une fonction : fermeture"
   ]
  },
  {
   "cell_type": "code",
   "execution_count": 15,
   "metadata": {
    "collapsed": false
   },
   "outputs": [
    {
     "name": "stdout",
     "output_type": "stream",
     "text": [
      "4\n",
      "7\n"
     ]
    }
   ],
   "source": [
    "def f(a, b):\n",
    "    def _f(x):\n",
    "        return a * x + b\n",
    "    return _f\n",
    "\n",
    "droite_1 = f(1, 2)\n",
    "droite_2 = f(2, 3)\n",
    "\n",
    "print(droite_1(2))\n",
    "print(droite_2(2))"
   ]
  },
  {
   "cell_type": "code",
   "execution_count": 8,
   "metadata": {
    "collapsed": false
   },
   "outputs": [
    {
     "name": "stdout",
     "output_type": "stream",
     "text": [
      "La fonction ajout_a vient d'être appelée avec l'argument 10\n",
      "La fonction ajoute vient d'être appelée avec l'argument 4\n",
      "14\n",
      "La fonction ajout_a vient d'être appelée avec l'argument 6\n",
      "La fonction ajoute vient d'être appelée avec l'argument 4\n",
      "10\n"
     ]
    }
   ],
   "source": [
    "def ajout_a(n):\n",
    "    print(\"La fonction {} vient d'être appelée avec l'argument {}\".format(ajout_a.__name__, n))\n",
    "    def ajoute(x):\n",
    "        print(\"La fonction {} vient d'être appelée avec l'argument {}\".format(ajoute.__name__, x))\n",
    "        return n + x\n",
    "    return ajoute\n",
    "\n",
    "fa = ajout_a(10)\n",
    "print(fa(4))\n",
    "\n",
    "fb = ajout_a(6)\n",
    "print(fb(4))"
   ]
  },
  {
   "cell_type": "markdown",
   "metadata": {},
   "source": [
    "## Premier décorateur"
   ]
  },
  {
   "cell_type": "code",
   "execution_count": 25,
   "metadata": {
    "collapsed": false
   },
   "outputs": [
    {
     "name": "stdout",
     "output_type": "stream",
     "text": [
      "- Appel de foo avant toute décoration :\n",
      "La fonction foo a été appelée avec l'argument Hello\n",
      "- Décoration de foo avec f :\n",
      "- Appel de foo après décoration :\n",
      "* Avant appel de foo *\n",
      "La fonction foo a été appelée avec l'argument 42\n",
      "* Après appel de foo *\n"
     ]
    }
   ],
   "source": [
    "def decorateur(func):\n",
    "    def fonction_enveloppe(x):\n",
    "        print(\"* Avant appel de {} *\".format(func.__name__))\n",
    "        func(x)\n",
    "        print(\"* Après appel de {} *\".format(func.__name__))\n",
    "    return fonction_enveloppe\n",
    "\n",
    "def foo(x):\n",
    "    print(\"La fonction foo a été appelée avec l'argument {}\".format(x))\n",
    "\n",
    "print(\"- Appel de foo avant toute décoration :\")\n",
    "foo(\"Hello\")\n",
    "    \n",
    "print(\"- Décoration de foo avec f :\")\n",
    "foo = decorateur(foo)\n",
    "\n",
    "print(\"- Appel de foo après décoration :\")\n",
    "foo(42)"
   ]
  },
  {
   "cell_type": "code",
   "execution_count": null,
   "metadata": {
    "collapsed": true
   },
   "outputs": [],
   "source": []
  }
 ],
 "metadata": {
  "anaconda-cloud": {},
  "kernelspec": {
   "display_name": "Python [conda root]",
   "language": "python",
   "name": "conda-root-py"
  },
  "language_info": {
   "codemirror_mode": {
    "name": "ipython",
    "version": 3
   },
   "file_extension": ".py",
   "mimetype": "text/x-python",
   "name": "python",
   "nbconvert_exporter": "python",
   "pygments_lexer": "ipython3",
   "version": "3.5.2"
  },
  "toc": {
   "nav_menu": {
    "height": "153px",
    "width": "252px"
   },
   "navigate_menu": true,
   "number_sections": true,
   "sideBar": true,
   "threshold": 4,
   "toc_cell": false,
   "toc_section_display": "block",
   "toc_window_display": false
  }
 },
 "nbformat": 4,
 "nbformat_minor": 1
}
