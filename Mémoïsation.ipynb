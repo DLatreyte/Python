{
 "cells": [
  {
   "cell_type": "markdown",
   "metadata": {
    "toc": "true"
   },
   "source": [
    "# Table of Contents\n",
    " <p><div class=\"lev1 toc-item\"><a href=\"#Mémoïsation\" data-toc-modified-id=\"Mémoïsation-1\"><span class=\"toc-item-num\">1&nbsp;&nbsp;</span>Mémoïsation</a></div><div class=\"lev2 toc-item\"><a href=\"#Mémoïsation-:-principe\" data-toc-modified-id=\"Mémoïsation-:-principe-11\"><span class=\"toc-item-num\">1.1&nbsp;&nbsp;</span>Mémoïsation : principe</a></div><div class=\"lev2 toc-item\"><a href=\"#Fibonacci-sans-mémoïsation\" data-toc-modified-id=\"Fibonacci-sans-mémoïsation-12\"><span class=\"toc-item-num\">1.2&nbsp;&nbsp;</span>Fibonacci sans mémoïsation</a></div><div class=\"lev2 toc-item\"><a href=\"#Fonctions-modifiées-pour-implémenter-la-mémoïsation\" data-toc-modified-id=\"Fonctions-modifiées-pour-implémenter-la-mémoïsation-13\"><span class=\"toc-item-num\">1.3&nbsp;&nbsp;</span>Fonctions modifiées pour implémenter la mémoïsation</a></div><div class=\"lev3 toc-item\"><a href=\"#Mémoïsation-à-l'aide-d'un-dictionnaire-global\" data-toc-modified-id=\"Mémoïsation-à-l'aide-d'un-dictionnaire-global-131\"><span class=\"toc-item-num\">1.3.1&nbsp;&nbsp;</span>Mémoïsation à l'aide d'un dictionnaire global</a></div><div class=\"lev3 toc-item\"><a href=\"#Mémoïsation-à-l'aide-d'une-fonction-interne-et-d'un-dictionnaire-local\" data-toc-modified-id=\"Mémoïsation-à-l'aide-d'une-fonction-interne-et-d'un-dictionnaire-local-132\"><span class=\"toc-item-num\">1.3.2&nbsp;&nbsp;</span>Mémoïsation à l'aide d'une fonction interne et d'un dictionnaire local</a></div><div class=\"lev3 toc-item\"><a href=\"#Mémoïsation-à-l'aide-d'une-fonction-interne-et-du-système-de-gestion-des-exceptions\" data-toc-modified-id=\"Mémoïsation-à-l'aide-d'une-fonction-interne-et-du-système-de-gestion-des-exceptions-133\"><span class=\"toc-item-num\">1.3.3&nbsp;&nbsp;</span>Mémoïsation à l'aide d'une fonction interne et du système de gestion des exceptions</a></div><div class=\"lev3 toc-item\"><a href=\"#Mémoïsation-à-l'aide-d'une-liste\" data-toc-modified-id=\"Mémoïsation-à-l'aide-d'une-liste-134\"><span class=\"toc-item-num\">1.3.4&nbsp;&nbsp;</span>Mémoïsation à l'aide d'une liste</a></div><div class=\"lev2 toc-item\"><a href=\"#Mémoïsation-sans-modification-des-fonctions\" data-toc-modified-id=\"Mémoïsation-sans-modification-des-fonctions-14\"><span class=\"toc-item-num\">1.4&nbsp;&nbsp;</span>Mémoïsation sans modification des fonctions</a></div><div class=\"lev2 toc-item\"><a href=\"#Comparaison-de-l'efficacité-des-programmes\" data-toc-modified-id=\"Comparaison-de-l'efficacité-des-programmes-15\"><span class=\"toc-item-num\">1.5&nbsp;&nbsp;</span>Comparaison de l'efficacité des programmes</a></div>"
   ]
  },
  {
   "cell_type": "markdown",
   "metadata": {},
   "source": [
    "# Mémoïsation"
   ]
  },
  {
   "cell_type": "markdown",
   "metadata": {},
   "source": [
    "## Mémoïsation : principe\n",
    "\n",
    "Mémoïsation est un terme introduit en informatique en 1968 par Donald Michie. Son origine est le terme latin *memorandum* («chose dont on doit se rappeler»).\n",
    "\n",
    "Le principe de la mémoïsation est des stocker les calculs intermédiaires de façon à éviter les calculs inutiles (surtout dans le cas de l'utilisation de la récursivité, de façon à gagner en efficacité).\n",
    "\n",
    "[Article sur wikipedia](https://fr.wikipedia.org/wiki/Mémoïsation)."
   ]
  },
  {
   "cell_type": "markdown",
   "metadata": {},
   "source": [
    "## Fibonacci sans mémoïsation"
   ]
  },
  {
   "cell_type": "code",
   "execution_count": 10,
   "metadata": {
    "collapsed": false,
    "scrolled": true
   },
   "outputs": [],
   "source": [
    "def fibo_1(n):\n",
    "    if n <= 1:\n",
    "        return n\n",
    "    else:\n",
    "        return fibo_1(n - 1) + fibo_1(n - 2)"
   ]
  },
  {
   "cell_type": "markdown",
   "metadata": {},
   "source": [
    "## Fonctions modifiées pour implémenter la mémoïsation\n",
    "\n",
    "Le problème de cette méthode est que la clarté des appels récursifs est perdue... et qu'il faut modifier les fonctions.\n",
    "\n",
    "### Mémoïsation à l'aide d'un dictionnaire global\n",
    "\n",
    "Le dictionnaire **valeurs_1** ci-dessous est une varibale globale.\n",
    "\n",
    "**Remarque :** un dictionnaire est une structure modifiable, donc manipulable depuis une fonction comme si elle était locale."
   ]
  },
  {
   "cell_type": "code",
   "execution_count": 11,
   "metadata": {
    "collapsed": false
   },
   "outputs": [],
   "source": [
    "valeurs_1 = {0: 0, 1: 1}  # Initialisation du dictionnaire des valeurs\n",
    "\n",
    "def fibo_2(n):  # Définition de la fonction récursive\n",
    "    if n in valeurs_1.keys():\n",
    "        return valeurs_1[n]\n",
    "    else:\n",
    "        calcul_inter = fibo_2(n - 1) + fibo_2(n - 2)\n",
    "        valeurs_1[n] = calcul_inter\n",
    "        return calcul_inter"
   ]
  },
  {
   "cell_type": "markdown",
   "metadata": {},
   "source": [
    "### Mémoïsation à l'aide d'une fonction interne et d'un dictionnaire local\n",
    "\n",
    "Le dictionnaire **valeurs_2** est désormais local à la fonction **fibo_3**."
   ]
  },
  {
   "cell_type": "code",
   "execution_count": 12,
   "metadata": {
    "collapsed": false
   },
   "outputs": [],
   "source": [
    "def fibo_3(n):\n",
    "\n",
    "    valeurs_2 = {0: 0, 1: 1}  # Initialisation du dictionnaire des valeurs\n",
    "\n",
    "    def _fibo(n):  # Définition de la fonction récursive\n",
    "        if n in valeurs_2.keys():\n",
    "            return valeurs_2[n]\n",
    "        else:\n",
    "            calcul = _fibo(n - 1) + _fibo(n - 2)\n",
    "            valeurs_2[n] = calcul\n",
    "            return calcul\n",
    "\n",
    "    return _fibo(n)  # Appel de la fonction récursive"
   ]
  },
  {
   "cell_type": "markdown",
   "metadata": {},
   "source": [
    "### Mémoïsation à l'aide d'une fonction interne et du système de gestion des exceptions\n",
    "\n",
    "Le dictionnaire **valeurs_3** est local à la fonction **fibo_4** et l'alternative est remplacée par le système de gestion des exceptions."
   ]
  },
  {
   "cell_type": "code",
   "execution_count": 13,
   "metadata": {
    "collapsed": true
   },
   "outputs": [],
   "source": [
    "def fibo_4(n):\n",
    "\n",
    "    valeurs_3 = {0: 0, 1: 1}  # Initialisation du dictionnaire des valeurs\n",
    "\n",
    "    def _fibo(n):  # Définition de la fonction récursive\n",
    "        try:  # On suppose que l'entrée existe dans le dictionnaire\n",
    "            return valeurs_3[n]\n",
    "        except KeyError:  # Si ce n'est pas le cas, l'absence de clé est remontée\n",
    "            calcul = _fibo(n - 1) + _fibo(n - 2)\n",
    "            valeurs_3[n] = calcul\n",
    "            return calcul\n",
    "\n",
    "    return _fibo(n)"
   ]
  },
  {
   "cell_type": "markdown",
   "metadata": {},
   "source": [
    "### Mémoïsation à l'aide d'une liste\n",
    "\n",
    "La liste **valeurs_4** est locale à la fonction **fibo_5**."
   ]
  },
  {
   "cell_type": "code",
   "execution_count": 14,
   "metadata": {
    "collapsed": true
   },
   "outputs": [],
   "source": [
    "def fibo_5(n):\n",
    "\n",
    "    valeurs_4 = [-1] * (n + 1)  # Initialisation de la liste\n",
    "    valeurs_4[0] = 0\n",
    "    valeurs_4[1] = 1\n",
    "\n",
    "    def _fibo(n):  # Définition de la fonction récursive\n",
    "        if valeurs_4[n] != -1:\n",
    "            return valeurs_4[n]\n",
    "        else:\n",
    "            calcul = _fibo(n - 1) + _fibo(n - 2)\n",
    "            valeurs_4[n] = calcul\n",
    "            return calcul\n",
    "\n",
    "    return _fibo(n)  # Appel de la fonction récursive"
   ]
  },
  {
   "cell_type": "markdown",
   "metadata": {},
   "source": [
    "## Mémoïsation sans modification des fonctions\n",
    "\n",
    "Cette méthode nécessite la compréhension des concepts de **fermeture** et de **décorateur**."
   ]
  },
  {
   "cell_type": "code",
   "execution_count": 20,
   "metadata": {
    "collapsed": false
   },
   "outputs": [],
   "source": [
    "def memoize(f):\n",
    "    \"\"\" Définition de la fonction décoratrice \"\"\"\n",
    "    memo = {}\n",
    "    def enveloppe(x):\n",
    "        \"\"\" Fonction mémoïsée \"\"\"\n",
    "        if x not in memo:\n",
    "            memo[x] = f(x)\n",
    "        return memo[x]\n",
    "    return enveloppe\n",
    "\n",
    "def fibo_6(n):\n",
    "    if n <= 1:\n",
    "        return n\n",
    "    else:\n",
    "        return fibo_6(n - 1) + fibo_6(n - 2)\n",
    "\n",
    "fibo_6 = memoize(fibo_6)"
   ]
  },
  {
   "cell_type": "markdown",
   "metadata": {},
   "source": [
    "Avec un peu de [sucre syntaxique](https://fr.wikipedia.org/wiki/Sucre_syntaxique) :"
   ]
  },
  {
   "cell_type": "code",
   "execution_count": 16,
   "metadata": {
    "collapsed": true
   },
   "outputs": [],
   "source": [
    "@memoize\n",
    "def fibo_7(n):\n",
    "    if n <= 1:\n",
    "        return n\n",
    "    else:\n",
    "        return fibo_7(n - 1) + fibo_7(n - 2)"
   ]
  },
  {
   "cell_type": "markdown",
   "metadata": {},
   "source": [
    "## Comparaison de l'efficacité des programmes"
   ]
  },
  {
   "cell_type": "code",
   "execution_count": 17,
   "metadata": {
    "collapsed": false
   },
   "outputs": [
    {
     "name": "stdout",
     "output_type": "stream",
     "text": [
      "1 loop, best of 3: 45.5 s per loop\n",
      "The slowest run took 120.77 times longer than the fastest. This could mean that an intermediate result is being cached.\n",
      "1000000 loops, best of 3: 235 ns per loop\n",
      "10000 loops, best of 3: 22.2 µs per loop\n",
      "10000 loops, best of 3: 28 µs per loop\n",
      "100000 loops, best of 3: 16.1 µs per loop\n",
      "The slowest run took 210.21 times longer than the fastest. This could mean that an intermediate result is being cached.\n",
      "10000000 loops, best of 3: 168 ns per loop\n",
      "The slowest run took 188.60 times longer than the fastest. This could mean that an intermediate result is being cached.\n",
      "10000000 loops, best of 3: 170 ns per loop\n"
     ]
    }
   ],
   "source": [
    "n = 40\n",
    "%timeit fibo_1(n)\n",
    "%timeit fibo_2(n)\n",
    "%timeit fibo_3(n)\n",
    "%timeit fibo_4(n)\n",
    "%timeit fibo_5(n)\n",
    "%timeit fibo_6(n)\n",
    "%timeit fibo_7(n)"
   ]
  }
 ],
 "metadata": {
  "anaconda-cloud": {},
  "kernelspec": {
   "display_name": "Python [conda root]",
   "language": "python",
   "name": "conda-root-py"
  },
  "language_info": {
   "codemirror_mode": {
    "name": "ipython",
    "version": 3
   },
   "file_extension": ".py",
   "mimetype": "text/x-python",
   "name": "python",
   "nbconvert_exporter": "python",
   "pygments_lexer": "ipython3",
   "version": "3.5.2"
  },
  "toc": {
   "nav_menu": {
    "height": "118px",
    "width": "252px"
   },
   "navigate_menu": true,
   "number_sections": false,
   "sideBar": true,
   "threshold": 4,
   "toc_cell": true,
   "toc_section_display": "block",
   "toc_window_display": true
  }
 },
 "nbformat": 4,
 "nbformat_minor": 1
}
