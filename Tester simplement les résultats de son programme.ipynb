{
 "cells": [
  {
   "cell_type": "markdown",
   "metadata": {
    "toc": "true"
   },
   "source": [
    "# Table of Contents\n",
    " <p><div class=\"lev2 toc-item\"><a href=\"#Tests-unitaires\" data-toc-modified-id=\"Tests-unitaires-01\"><span class=\"toc-item-num\">0.1&nbsp;&nbsp;</span>Tests unitaires</a></div><div class=\"lev2 toc-item\"><a href=\"#Doctests\" data-toc-modified-id=\"Doctests-02\"><span class=\"toc-item-num\">0.2&nbsp;&nbsp;</span>Doctests</a></div><div class=\"lev3 toc-item\"><a href=\"#Docstrings\" data-toc-modified-id=\"Docstrings-021\"><span class=\"toc-item-num\">0.2.1&nbsp;&nbsp;</span>Docstrings</a></div><div class=\"lev3 toc-item\"><a href=\"#Doctests-:-mise-en-œuvre\" data-toc-modified-id=\"Doctests-:-mise-en-œuvre-022\"><span class=\"toc-item-num\">0.2.2&nbsp;&nbsp;</span>Doctests : mise en œuvre</a></div>"
   ]
  },
  {
   "cell_type": "markdown",
   "metadata": {},
   "source": [
    "## Tests unitaires\n",
    "\n",
    "Procédure à suivre lorsqu'on programme :\n",
    "\n",
    "1. Écrire les tests\n",
    "2. Écrire le programme\n",
    "3. Tester le programme\n",
    "\n",
    "L'utilisation de tests automatiques permet :\n",
    "\n",
    "- d'avoir confiance dans son programme\n",
    "- de pouvoir le modifier, l'améliorer sans craindre l'introduction de bugs « invisibles »\n",
    "- d'acquérir la confiance des autres programmeurs\n",
    "\n",
    "Les tests unitaires en Python ont un fonctionnement basé que celui des tests unitaires en Java. L'ensemble est un peu lourd !"
   ]
  },
  {
   "cell_type": "markdown",
   "metadata": {},
   "source": [
    "## Doctests\n",
    "\n",
    "### Docstrings\n",
    "\n",
    "Les docstrings sont des chaines de caractères qui ne servent qu’à une chose : **documenter** ! On peut donc les utiliser pour un *module*, une *classe*, une *méthode*, une *fonction*… \n",
    "\n",
    "*Les docstrings ne sont pas des commentaires* : autant ces derniers sont complètement ignorés lors de l’analyse syntaxique des sources (La balise dièse « # » délimitant le début d’un commentaire), autant les docstrings sont chargés par l’interpréteur Python.\n",
    "\n",
    "### Doctests : mise en œuvre\n",
    "\n",
    "On utilise une syntaxe particulière dans les docstrings de manière à pouvoir y écrire directement les tests et leurs résultats. \n",
    "\n",
    "On utilise un triple chevron >>> pour indiquer que l’on écrit un test. La ligne suivante avec la même indentation et sans chevron est considérée comme le résultat du test."
   ]
  },
  {
   "cell_type": "code",
   "execution_count": 21,
   "metadata": {
    "collapsed": false
   },
   "outputs": [],
   "source": [
    "def add_10(n):\n",
    "    \"\"\"\n",
    "    Ajoute 10 au nombre passé en argument\n",
    "    \n",
    "    >>> add_10(5)\n",
    "    15\n",
    "    >>> add_10(-2.5)\n",
    "    7.5\n",
    "    \"\"\"\n",
    "    return n + 10"
   ]
  },
  {
   "cell_type": "code",
   "execution_count": 22,
   "metadata": {
    "collapsed": true
   },
   "outputs": [],
   "source": [
    "def factorial(n):\n",
    "    \"\"\"Return the factorial of n, an exact integer >= 0.\n",
    "\n",
    "    >>> [factorial(n) for n in range(6)]\n",
    "    [1, 1, 2, 6, 24, 120]\n",
    "    >>> factorial(30)\n",
    "    265252859812191058636308480000000\n",
    "    >>> factorial(-1)\n",
    "    Traceback (most recent call last):\n",
    "        ...\n",
    "    ValueError: n must be >= 0\n",
    "\n",
    "    Factorials of floats are OK, but the float must be an exact integer:\n",
    "    >>> factorial(30.1)\n",
    "    Traceback (most recent call last):\n",
    "        ...\n",
    "    ValueError: n must be exact integer\n",
    "    >>> factorial(30.0)\n",
    "    265252859812191058636308480000000\n",
    "\n",
    "    It must also not be ridiculously large:\n",
    "    >>> factorial(1e100)\n",
    "    Traceback (most recent call last):\n",
    "        ...\n",
    "    OverflowError: n too large\n",
    "    \"\"\"\n",
    "\n",
    "    import math\n",
    "    if not n >= 0:\n",
    "        raise ValueError(\"n must be >= 0\")\n",
    "    if math.floor(n) != n:\n",
    "        raise ValueError(\"n must be exact integer\")\n",
    "    if n + 1 == n:  # catch a value like 1e300\n",
    "        raise OverflowError(\"n too large\")\n",
    "    resultat = 1\n",
    "    produit = 2\n",
    "    while produit <= n:\n",
    "        resultat *= produit\n",
    "        produit += 1\n",
    "    return resultat"
   ]
  },
  {
   "cell_type": "code",
   "execution_count": 23,
   "metadata": {
    "collapsed": false
   },
   "outputs": [
    {
     "data": {
      "text/plain": [
       "TestResults(failed=0, attempted=8)"
      ]
     },
     "execution_count": 23,
     "metadata": {},
     "output_type": "execute_result"
    }
   ],
   "source": [
    "import doctest\n",
    "doctest.testmod()  # Testmod parcourt le fichier à la recherche des tests et les lance"
   ]
  },
  {
   "cell_type": "code",
   "execution_count": null,
   "metadata": {
    "collapsed": false
   },
   "outputs": [],
   "source": []
  },
  {
   "cell_type": "code",
   "execution_count": null,
   "metadata": {
    "collapsed": true
   },
   "outputs": [],
   "source": []
  }
 ],
 "metadata": {
  "kernelspec": {
   "display_name": "Python [conda root]",
   "language": "python",
   "name": "conda-root-py"
  },
  "language_info": {
   "codemirror_mode": {
    "name": "ipython",
    "version": 3
   },
   "file_extension": ".py",
   "mimetype": "text/x-python",
   "name": "python",
   "nbconvert_exporter": "python",
   "pygments_lexer": "ipython3",
   "version": "3.5.2"
  },
  "toc": {
   "nav_menu": {
    "height": "82px",
    "width": "252px"
   },
   "navigate_menu": true,
   "number_sections": true,
   "sideBar": true,
   "threshold": 4,
   "toc_cell": true,
   "toc_section_display": "block",
   "toc_window_display": true
  }
 },
 "nbformat": 4,
 "nbformat_minor": 1
}
