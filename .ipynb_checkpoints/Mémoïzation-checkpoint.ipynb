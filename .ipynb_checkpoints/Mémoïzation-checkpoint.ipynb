{
 "cells": [
  {
   "cell_type": "markdown",
   "metadata": {},
   "source": [
    "# Mémoïzation"
   ]
  },
  {
   "cell_type": "markdown",
   "metadata": {},
   "source": [
    "## Principe\n",
    "\n",
    "Le principe de la mémoïzation est d'enregistrer les calculs intermédiaires (surtout dans le cas de l'utilisation de la récursivité, de façon à gagner en efficacité."
   ]
  },
  {
   "cell_type": "markdown",
   "metadata": {},
   "source": [
    "## Fibonacci sans mémoïzation"
   ]
  },
  {
   "cell_type": "code",
   "execution_count": 48,
   "metadata": {
    "collapsed": false,
    "scrolled": true
   },
   "outputs": [],
   "source": [
    "def fibo_1(n):\n",
    "    if n <= 1:\n",
    "        return n\n",
    "    else:\n",
    "        return fibo_1(n - 1) + fibo_1(n - 2)"
   ]
  },
  {
   "cell_type": "markdown",
   "metadata": {},
   "source": [
    "## Fibonacci avec mémoïzation à l'aide d'une variable globale\n",
    "\n",
    "Le dictionnaire **valeurs_1** ci-dessous est une varibale globale.\n",
    "\n",
    "**Remarque :** un dictionnaire est une structure modifiable, donc manipulable depuis une fonction comme si elle était locale."
   ]
  },
  {
   "cell_type": "code",
   "execution_count": 49,
   "metadata": {
    "collapsed": false
   },
   "outputs": [],
   "source": [
    "valeurs_1 = {0: 0, 1: 1}  # Initialisation du dictionnaire des valeurs\n",
    "\n",
    "def fibo_2(n):  # Définition de la fonction récursive\n",
    "    if n in valeurs_1.keys():\n",
    "        return valeurs_1[n]\n",
    "    else:\n",
    "        calcul_inter = fibo_2(n - 1) + fibo_2(n - 2)\n",
    "        valeurs_1[n] = calcul_inter\n",
    "        return calcul_inter"
   ]
  },
  {
   "cell_type": "markdown",
   "metadata": {},
   "source": [
    "## Fibonacci avec mémoïzation à l'aide d'une fonction interne\n",
    "\n",
    "Le dictionnaire **valeurs_2** est désormais local à la fonction **fibo_2**."
   ]
  },
  {
   "cell_type": "code",
   "execution_count": 50,
   "metadata": {
    "collapsed": false
   },
   "outputs": [],
   "source": [
    "def fibo_3(n):\n",
    "\n",
    "    valeurs_2 = {0: 0, 1: 1}  # Initialisation du dictionnaire des valeurs\n",
    "\n",
    "    def _fibo(n):  # Définition de la fonction récursive\n",
    "        if n in valeurs_2.keys():\n",
    "            return valeurs_2[n]\n",
    "        else:\n",
    "            calcul = _fibo(n - 1) + _fibo(n - 2)\n",
    "            valeurs_2[n] = calcul\n",
    "            return calcul\n",
    "\n",
    "    return _fibo(n)  # Appel de la fonction récursive"
   ]
  },
  {
   "cell_type": "markdown",
   "metadata": {},
   "source": [
    "## Comparaisons de l'efficacité"
   ]
  },
  {
   "cell_type": "code",
   "execution_count": 51,
   "metadata": {
    "collapsed": false
   },
   "outputs": [
    {
     "name": "stdout",
     "output_type": "stream",
     "text": [
      "1000 loops, best of 3: 266 µs per loop\n"
     ]
    }
   ],
   "source": [
    "%timeit fibo_1(15)"
   ]
  },
  {
   "cell_type": "code",
   "execution_count": 52,
   "metadata": {
    "collapsed": false
   },
   "outputs": [
    {
     "name": "stdout",
     "output_type": "stream",
     "text": [
      "The slowest run took 53.56 times longer than the fastest. This could mean that an intermediate result is being cached.\n",
      "1000000 loops, best of 3: 227 ns per loop\n"
     ]
    }
   ],
   "source": [
    "%timeit fibo_2(15)"
   ]
  },
  {
   "cell_type": "code",
   "execution_count": 53,
   "metadata": {
    "collapsed": false
   },
   "outputs": [
    {
     "name": "stdout",
     "output_type": "stream",
     "text": [
      "100000 loops, best of 3: 8.93 µs per loop\n"
     ]
    }
   ],
   "source": [
    "%timeit fibo_3(15)"
   ]
  },
  {
   "cell_type": "code",
   "execution_count": null,
   "metadata": {
    "collapsed": true
   },
   "outputs": [],
   "source": []
  }
 ],
 "metadata": {
  "kernelspec": {
   "display_name": "Python [conda root]",
   "language": "python",
   "name": "conda-root-py"
  },
  "language_info": {
   "codemirror_mode": {
    "name": "ipython",
    "version": 3
   },
   "file_extension": ".py",
   "mimetype": "text/x-python",
   "name": "python",
   "nbconvert_exporter": "python",
   "pygments_lexer": "ipython3",
   "version": "3.5.2"
  },
  "toc": {
   "nav_menu": {
    "height": "118px",
    "width": "252px"
   },
   "navigate_menu": true,
   "number_sections": false,
   "sideBar": true,
   "threshold": 4,
   "toc_cell": false,
   "toc_section_display": "block",
   "toc_window_display": false
  }
 },
 "nbformat": 4,
 "nbformat_minor": 1
}
