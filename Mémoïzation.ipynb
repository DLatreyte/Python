{
 "cells": [
  {
   "cell_type": "markdown",
   "metadata": {},
   "source": [
    "# Mémoïzation"
   ]
  },
  {
   "cell_type": "markdown",
   "metadata": {},
   "source": [
    "## Principe\n",
    "\n",
    "Le principe de la mémoïzation est d'enregistrer les calculs intermédiaires (surtout dans le cas de l'utilisation de la récursivité, de façon à gagner en efficacité."
   ]
  },
  {
   "cell_type": "markdown",
   "metadata": {},
   "source": [
    "## Fibonacci sans mémoïzation"
   ]
  },
  {
   "cell_type": "code",
   "execution_count": 25,
   "metadata": {
    "collapsed": false,
    "scrolled": true
   },
   "outputs": [],
   "source": [
    "def fibo_1(n):\n",
    "    if n <= 1:\n",
    "        return n\n",
    "    else:\n",
    "        return fibo_1(n - 1) + fibo_1(n - 2)"
   ]
  },
  {
   "cell_type": "markdown",
   "metadata": {},
   "source": [
    "## Fibonacci avec mémoïzation à l'aide d'une variable globale\n",
    "\n",
    "Le dictionnaire **valeurs_1** ci-dessous est une varibale globale.\n",
    "\n",
    "**Remarque :** un dictionnaire est une structure modifiable, donc manipulable depuis une fonction comme si elle était locale."
   ]
  },
  {
   "cell_type": "code",
   "execution_count": 26,
   "metadata": {
    "collapsed": false
   },
   "outputs": [],
   "source": [
    "valeurs_1 = {0: 0, 1: 1}  # Initialisation du dictionnaire des valeurs\n",
    "\n",
    "def fibo_2(n):  # Définition de la fonction récursive\n",
    "    if n in valeurs_1.keys():\n",
    "        return valeurs_1[n]\n",
    "    else:\n",
    "        calcul_inter = fibo_2(n - 1) + fibo_2(n - 2)\n",
    "        valeurs_1[n] = calcul_inter\n",
    "        return calcul_inter"
   ]
  },
  {
   "cell_type": "markdown",
   "metadata": {},
   "source": [
    "## Fibonacci avec mémoïzation à l'aide d'une fonction interne\n",
    "\n",
    "Le dictionnaire **valeurs_2** est désormais local à la fonction **fibo_3**."
   ]
  },
  {
   "cell_type": "code",
   "execution_count": 27,
   "metadata": {
    "collapsed": false
   },
   "outputs": [],
   "source": [
    "def fibo_3(n):\n",
    "\n",
    "    valeurs_2 = {0: 0, 1: 1}  # Initialisation du dictionnaire des valeurs\n",
    "\n",
    "    def _fibo(n):  # Définition de la fonction récursive\n",
    "        if n in valeurs_2.keys():\n",
    "            return valeurs_2[n]\n",
    "        else:\n",
    "            calcul = _fibo(n - 1) + _fibo(n - 2)\n",
    "            valeurs_2[n] = calcul\n",
    "            return calcul\n",
    "\n",
    "    return _fibo(n)  # Appel de la fonction récursive"
   ]
  },
  {
   "cell_type": "markdown",
   "metadata": {},
   "source": [
    "## Fibonacci avec mémoïzation à l'aide d'une fonction interne et du système de gestion des exceptions\n",
    "\n",
    "Le dictionnaire **valeurs_3** est local à la fonction **fibo_4** et l'alternative est remplacée par le système de gestion des exceptions."
   ]
  },
  {
   "cell_type": "code",
   "execution_count": 28,
   "metadata": {
    "collapsed": true
   },
   "outputs": [],
   "source": [
    "def fibo_4(n):\n",
    "    \n",
    "    valeurs_3 = {0: 0, 1: 1}      # Initialisation du dictionnaire des valeurs\n",
    "    \n",
    "    def _fibo(n):                 # Définition de la fonction récursive\n",
    "        try:                      # On suppose que l'entrée existe dans le dictionnaire\n",
    "            return valeurs_3[n]\n",
    "        except KeyError:          # Si ce n'est pas le cas, l'absence de clé est remontée\n",
    "            calcul = _fibo(n - 1) + _fibo(n - 2)\n",
    "            valeurs_3[n] = calcul\n",
    "            return calcul\n",
    "    \n",
    "    return _fibo(n)"
   ]
  },
  {
   "cell_type": "markdown",
   "metadata": {},
   "source": [
    "## Comparaisons de l'efficacité"
   ]
  },
  {
   "cell_type": "code",
   "execution_count": 29,
   "metadata": {
    "collapsed": false
   },
   "outputs": [
    {
     "name": "stdout",
     "output_type": "stream",
     "text": [
      "10 loops, best of 3: 34.1 ms per loop\n"
     ]
    }
   ],
   "source": [
    "%timeit fibo_1(25)"
   ]
  },
  {
   "cell_type": "code",
   "execution_count": 30,
   "metadata": {
    "collapsed": false
   },
   "outputs": [
    {
     "name": "stdout",
     "output_type": "stream",
     "text": [
      "The slowest run took 156.89 times longer than the fastest. This could mean that an intermediate result is being cached.\n",
      "1000000 loops, best of 3: 235 ns per loop\n"
     ]
    }
   ],
   "source": [
    "%timeit fibo_2(25)"
   ]
  },
  {
   "cell_type": "code",
   "execution_count": 31,
   "metadata": {
    "collapsed": false
   },
   "outputs": [
    {
     "name": "stdout",
     "output_type": "stream",
     "text": [
      "100000 loops, best of 3: 15 µs per loop\n"
     ]
    }
   ],
   "source": [
    "%timeit fibo_3(25)"
   ]
  },
  {
   "cell_type": "code",
   "execution_count": 32,
   "metadata": {
    "collapsed": false
   },
   "outputs": [
    {
     "name": "stdout",
     "output_type": "stream",
     "text": [
      "100000 loops, best of 3: 18.4 µs per loop\n"
     ]
    }
   ],
   "source": [
    "%timeit fibo_4(25)"
   ]
  }
 ],
 "metadata": {
  "anaconda-cloud": {},
  "kernelspec": {
   "display_name": "Python [conda root]",
   "language": "python",
   "name": "conda-root-py"
  },
  "language_info": {
   "codemirror_mode": {
    "name": "ipython",
    "version": 3
   },
   "file_extension": ".py",
   "mimetype": "text/x-python",
   "name": "python",
   "nbconvert_exporter": "python",
   "pygments_lexer": "ipython3",
   "version": "3.5.2"
  },
  "toc": {
   "nav_menu": {
    "height": "118px",
    "width": "252px"
   },
   "navigate_menu": true,
   "number_sections": false,
   "sideBar": true,
   "threshold": 4,
   "toc_cell": false,
   "toc_section_display": "block",
   "toc_window_display": false
  }
 },
 "nbformat": 4,
 "nbformat_minor": 1
}
